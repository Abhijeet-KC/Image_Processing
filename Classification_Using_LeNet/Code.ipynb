{
 "cells": [
  {
   "cell_type": "markdown",
   "id": "072d79aa",
   "metadata": {},
   "source": [
    "## Classification"
   ]
  },
  {
   "cell_type": "markdown",
   "id": "28db7f5c",
   "metadata": {},
   "source": [
    "#### Classification is the process of classifying the objects from the input image using Classifier Network."
   ]
  },
  {
   "cell_type": "code",
   "execution_count": 1,
   "id": "40b512d0",
   "metadata": {},
   "outputs": [],
   "source": [
    "import torch\n",
    "import torch.nn as nn\n",
    "import matplotlib.pyplot as plt\n",
    "import torchvision\n",
    "import torch.optim as optim\n",
    "from torchvision import datasets, transforms\n",
    "from torch.utils.data import DataLoader"
   ]
  },
  {
   "cell_type": "code",
   "execution_count": 2,
   "id": "0f3df30a",
   "metadata": {},
   "outputs": [],
   "source": [
    "class LeNet(nn.Module):\n",
    "    def __init__(self):\n",
    "        super(LeNet, self).__init__()\n",
    "\n",
    "        self.features = nn.Sequential(\n",
    "            nn.Conv2d(in_channels=1, out_channels=6, kernel_size=5),\n",
    "            nn.Tanh(),\n",
    "            nn.MaxPool2d(kernel_size=2, stride=2),\n",
    "\n",
    "            nn.Conv2d(in_channels=6, out_channels=16, kernel_size=5),\n",
    "            nn.Tanh(),\n",
    "            nn.MaxPool2d(kernel_size=2, stride=2),\n",
    "        )\n",
    "\n",
    "        self.classifier = nn.Sequential(\n",
    "            nn.Linear(16*4*4, 120),\n",
    "            nn.Tanh(),\n",
    "\n",
    "            nn.Linear(120, 84),\n",
    "            nn.Tanh(),\n",
    "\n",
    "            nn.Linear(84, 10),\n",
    "        )\n",
    "\n",
    "    def forward(self, x):\n",
    "        x = self.features(x)\n",
    "        x = x.view(x.shape[0], -1)\n",
    "        x = self.classifier(x)\n",
    "\n",
    "        return x"
   ]
  },
  {
   "cell_type": "code",
   "execution_count": 3,
   "id": "908bff66",
   "metadata": {},
   "outputs": [],
   "source": [
    "transform = transforms.Compose([\n",
    "    transforms.ToTensor(),\n",
    "    transforms.Normalize((0.1307,), (0.3081)) \n",
    "])\n",
    "\n",
    "train_dataset = datasets.MNIST(root='./data', train=True, download=True, transform=transform)\n",
    "test_dataset = datasets.MNIST(root='./data', train=False, download=True, transform=transform)\n",
    "\n",
    "train_loader = DataLoader(train_dataset, batch_size=64, shuffle=True)\n",
    "test_loader = DataLoader(test_dataset, batch_size=1000, shuffle=False)"
   ]
  },
  {
   "cell_type": "code",
   "execution_count": 4,
   "id": "53838018",
   "metadata": {},
   "outputs": [],
   "source": [
    "device = torch.device('cuda' if torch.cuda.is_available() else 'cpu')\n",
    "\n",
    "model = LeNet().to(device)\n",
    "criterion = nn.CrossEntropyLoss()\n",
    "optimizer = optim.Adam(model.parameters(), lr = 0.001)"
   ]
  },
  {
   "cell_type": "code",
   "execution_count": 5,
   "id": "d705c8e3",
   "metadata": {},
   "outputs": [],
   "source": [
    "num_epochs = 5"
   ]
  },
  {
   "cell_type": "code",
   "execution_count": 8,
   "id": "3d9280b2",
   "metadata": {},
   "outputs": [
    {
     "name": "stdout",
     "output_type": "stream",
     "text": [
      "Epoch [1/5], Batch [100/938], Loss: 0.0155\n",
      "Epoch [1/5], Batch [200/938], Loss: 0.0115\n",
      "Epoch [1/5], Batch [300/938], Loss: 0.0130\n",
      "Epoch [1/5], Batch [400/938], Loss: 0.0167\n",
      "Epoch [1/5], Batch [500/938], Loss: 0.0154\n",
      "Epoch [1/5], Batch [600/938], Loss: 0.0125\n",
      "Epoch [1/5], Batch [700/938], Loss: 0.0142\n",
      "Epoch [1/5], Batch [800/938], Loss: 0.0216\n",
      "Epoch [1/5], Batch [900/938], Loss: 0.0230\n",
      "Accuracy after epoch 1: 98.55%\n",
      "\n"
     ]
    },
    {
     "data": {
      "image/png": "[encoded data removed]",
      "text/plain": [
       "<Figure size 1000x300 with 6 Axes>"
      ]
     },
     "metadata": {},
     "output_type": "display_data"
    },
    {
     "name": "stdout",
     "output_type": "stream",
     "text": [
      "Epoch [2/5], Batch [100/938], Loss: 0.0178\n",
      "Epoch [2/5], Batch [200/938], Loss: 0.0149\n",
      "Epoch [2/5], Batch [300/938], Loss: 0.0090\n",
      "Epoch [2/5], Batch [400/938], Loss: 0.0101\n",
      "Epoch [2/5], Batch [500/938], Loss: 0.0143\n",
      "Epoch [2/5], Batch [600/938], Loss: 0.0141\n",
      "Epoch [2/5], Batch [700/938], Loss: 0.0166\n",
      "Epoch [2/5], Batch [800/938], Loss: 0.0169\n",
      "Epoch [2/5], Batch [900/938], Loss: 0.0156\n",
      "Accuracy after epoch 2: 98.52%\n",
      "\n"
     ]
    },
    {
     "data": {
      "image/png": "[encoded data removed]",
      "text/plain": [
       "<Figure size 1000x300 with 6 Axes>"
      ]
     },
     "metadata": {},
     "output_type": "display_data"
    },
    {
     "name": "stdout",
     "output_type": "stream",
     "text": [
      "Epoch [3/5], Batch [100/938], Loss: 0.0123\n",
      "Epoch [3/5], Batch [200/938], Loss: 0.0088\n",
      "Epoch [3/5], Batch [300/938], Loss: 0.0101\n",
      "Epoch [3/5], Batch [400/938], Loss: 0.0096\n",
      "Epoch [3/5], Batch [500/938], Loss: 0.0124\n",
      "Epoch [3/5], Batch [600/938], Loss: 0.0109\n",
      "Epoch [3/5], Batch [700/938], Loss: 0.0111\n",
      "Epoch [3/5], Batch [800/938], Loss: 0.0117\n",
      "Epoch [3/5], Batch [900/938], Loss: 0.0155\n",
      "Accuracy after epoch 3: 98.65%\n",
      "\n"
     ]
    },
    {
     "data": {
      "image/png": "[encoded data removed]",
      "text/plain": [
       "<Figure size 1000x300 with 6 Axes>"
      ]
     },
     "metadata": {},
     "output_type": "display_data"
    },
    {
     "name": "stdout",
     "output_type": "stream",
     "text": [
      "Epoch [4/5], Batch [100/938], Loss: 0.0096\n",
      "Epoch [4/5], Batch [200/938], Loss: 0.0073\n",
      "Epoch [4/5], Batch [300/938], Loss: 0.0084\n",
      "Epoch [4/5], Batch [400/938], Loss: 0.0155\n",
      "Epoch [4/5], Batch [500/938], Loss: 0.0099\n",
      "Epoch [4/5], Batch [600/938], Loss: 0.0125\n",
      "Epoch [4/5], Batch [700/938], Loss: 0.0120\n",
      "Epoch [4/5], Batch [800/938], Loss: 0.0112\n",
      "Epoch [4/5], Batch [900/938], Loss: 0.0160\n",
      "Accuracy after epoch 4: 98.62%\n",
      "\n"
     ]
    },
    {
     "data": {
      "image/png": "[encoded data removed]",
      "text/plain": [
       "<Figure size 1000x300 with 6 Axes>"
      ]
     },
     "metadata": {},
     "output_type": "display_data"
    },
    {
     "name": "stdout",
     "output_type": "stream",
     "text": [
      "Epoch [5/5], Batch [100/938], Loss: 0.0078\n",
      "Epoch [5/5], Batch [200/938], Loss: 0.0079\n",
      "Epoch [5/5], Batch [300/938], Loss: 0.0042\n",
      "Epoch [5/5], Batch [400/938], Loss: 0.0088\n",
      "Epoch [5/5], Batch [500/938], Loss: 0.0077\n",
      "Epoch [5/5], Batch [600/938], Loss: 0.0115\n",
      "Epoch [5/5], Batch [700/938], Loss: 0.0179\n",
      "Epoch [5/5], Batch [800/938], Loss: 0.0091\n",
      "Epoch [5/5], Batch [900/938], Loss: 0.0118\n",
      "Accuracy after epoch 5: 98.76%\n",
      "\n"
     ]
    },
    {
     "data": {
      "image/png": "[encoded data removed]",
      "text/plain": [
       "<Figure size 1000x300 with 6 Axes>"
      ]
     },
     "metadata": {},
     "output_type": "display_data"
    },
    {
     "name": "stdout",
     "output_type": "stream",
     "text": [
      "Training complete!\n"
     ]
    }
   ],
   "source": [
    "for epoch in range(num_epochs):\n",
    "    # Training phase\n",
    "    model.train()\n",
    "    running_loss = 0.0\n",
    "\n",
    "    for batch_idx, (data, target) in enumerate(train_loader):\n",
    "        data, target = data.to(device), target.to(device)\n",
    "\n",
    "        optimizer.zero_grad()\n",
    "        output = model(data)\n",
    "\n",
    "        loss = criterion(output, target)\n",
    "        loss.backward()\n",
    "        optimizer.step()\n",
    "\n",
    "        running_loss += loss.item()\n",
    "\n",
    "        if batch_idx % 100 == 99:\n",
    "            print(f'Epoch [{epoch + 1}/{num_epochs}], Batch [{batch_idx + 1}/{len(train_loader)}], Loss: {running_loss / 100:.4f}')\n",
    "            running_loss = 0.0\n",
    "\n",
    "    # Evaluation phase\n",
    "    model.eval()\n",
    "    correct = 0\n",
    "    total = 0\n",
    "    sample_data, sample_predicted, sample_target = None, None, None  # to store one batch for visualization\n",
    "\n",
    "    with torch.no_grad():\n",
    "        for batch_idx, (data, target) in enumerate(test_loader):\n",
    "            data, target = data.to(device), target.to(device)\n",
    "            output = model(data)\n",
    "            predicted = output.argmax(dim=1)\n",
    "            total += target.size(0)\n",
    "            correct += (predicted == target).sum().item()\n",
    "\n",
    "            # Save the first batch for visualization only\n",
    "            if sample_data is None:\n",
    "                sample_data = data\n",
    "                sample_predicted = predicted\n",
    "                sample_target = target\n",
    "\n",
    "    accuracy = 100 * correct / total\n",
    "    print(f'Accuracy after epoch {epoch + 1}: {accuracy:.2f}%\\n')\n",
    "\n",
    "    # Visualize the first 6 images from the saved sample batch\n",
    "    fig = plt.figure(figsize=(10, 3))\n",
    "    for i in range(6):\n",
    "        plt.subplot(1, 6, i + 1)\n",
    "        plt.axis('off')\n",
    "        plt.imshow(sample_data[i].cpu().squeeze(), cmap='gray')\n",
    "        plt.title(f'Pred: {sample_predicted[i].item()}\\nTrue: {sample_target[i].item()}')\n",
    "    plt.show()\n",
    "\n",
    "print(\"Training complete!\")"
   ]
  }
 ],
 "metadata": {
  "kernelspec": {
   "display_name": "venv",
   "language": "python",
   "name": "python3"
  },
  "language_info": {
   "codemirror_mode": {
    "name": "ipython",
    "version": 3
   },
   "file_extension": ".py",
   "mimetype": "text/x-python",
   "name": "python",
   "nbconvert_exporter": "python",
   "pygments_lexer": "ipython3",
   "version": "3.11.9"
  }
 },
 "nbformat": 4,
 "nbformat_minor": 5
}
