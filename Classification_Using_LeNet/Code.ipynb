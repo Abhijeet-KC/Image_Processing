{
 "cells": [
  {
   "cell_type": "markdown",
   "id": "072d79aa",
   "metadata": {},
   "source": [
    "## Classification"
   ]
  },
  {
   "cell_type": "markdown",
   "id": "28db7f5c",
   "metadata": {},
   "source": [
    "#### Classification is the process of classifying the objects from the input image using Classifier Network."
   ]
  },
  {
   "cell_type": "code",
   "execution_count": 1,
   "id": "40b512d0",
   "metadata": {},
   "outputs": [],
   "source": [
    "import torch\n",
    "import torch.nn as nn\n",
    "import torch.optim as optim\n",
    "from torchvision import datasets, transforms\n",
    "from torch.utils.data import DataLoader"
   ]
  },
  {
   "cell_type": "code",
   "execution_count": 2,
   "id": "0f3df30a",
   "metadata": {},
   "outputs": [],
   "source": [
    "class LeNet(nn.Module):\n",
    "    def __init__(self):\n",
    "        super(LeNet, self).__init__()\n",
    "\n",
    "        self.features = nn.Sequential(\n",
    "            nn.Conv2d(in_channels=1, out_channels=6, kernel_size=5),\n",
    "            nn.Tanh(),\n",
    "            nn.MaxPool2d(kernel_size=2, stride=2),\n",
    "\n",
    "            nn.Conv2d(in_channels=6, out_channels=16, kernel_size=5),\n",
    "            nn.Tanh(),\n",
    "            nn.MaxPool2d(kernel_size=2, stride=2),\n",
    "        )\n",
    "\n",
    "        self.classifier = nn.Sequential(\n",
    "            nn.Linear(16*4*4, 120),\n",
    "            nn.Tanh(),\n",
    "\n",
    "            nn.Linear(120, 84),\n",
    "            nn.Tanh(),\n",
    "\n",
    "            nn.Linear(84, 10),\n",
    "        )\n",
    "\n",
    "    def forward(self, x):\n",
    "        x = self.features(x)\n",
    "        x = x.view(x.shape[0], -1)\n",
    "        x = self.classifier(x)\n",
    "\n",
    "        return x"
   ]
  },
  {
   "cell_type": "code",
   "execution_count": 3,
   "id": "908bff66",
   "metadata": {},
   "outputs": [],
   "source": [
    "transform = transforms.Compose([\n",
    "    transforms.ToTensor(),\n",
    "    transforms.Normalize((0.1307,), (0.3081)) \n",
    "])\n",
    "\n",
    "train_dataset = datasets.MNIST(root='./data', train=True, download=True, transform=transform)\n",
    "test_dataset = datasets.MNIST(root='./data', train=False, download=True, transform=transform)\n",
    "\n",
    "train_loader = DataLoader(train_dataset, batch_size=64, shuffle=True)\n",
    "test_loader = DataLoader(test_dataset, batch_size=1000, shuffle=False)"
   ]
  },
  {
   "cell_type": "code",
   "execution_count": 4,
   "id": "53838018",
   "metadata": {},
   "outputs": [],
   "source": [
    "device = torch.device('cuda' if torch.cuda.is_available() else 'cpu')\n",
    "\n",
    "model = LeNet().to(device)\n",
    "criterion = nn.CrossEntropyLoss()\n",
    "optimizer = optim.Adam(model.parameters(), lr = 0.001)"
   ]
  },
  {
   "cell_type": "code",
   "execution_count": 5,
   "id": "d705c8e3",
   "metadata": {},
   "outputs": [],
   "source": [
    "num_epochs = 5"
   ]
  },
  {
   "cell_type": "code",
   "execution_count": 6,
   "id": "3d9280b2",
   "metadata": {},
   "outputs": [
    {
     "name": "stdout",
     "output_type": "stream",
     "text": [
      "Epoch [1/5], Batch [100/938], Loss: 0.8910\n",
      "Epoch [1/5], Batch [200/938], Loss: 0.2732\n",
      "Epoch [1/5], Batch [300/938], Loss: 0.1968\n",
      "Epoch [1/5], Batch [400/938], Loss: 0.1325\n",
      "Epoch [1/5], Batch [500/938], Loss: 0.1347\n",
      "Epoch [1/5], Batch [600/938], Loss: 0.1028\n",
      "Epoch [1/5], Batch [700/938], Loss: 0.1002\n",
      "Epoch [1/5], Batch [800/938], Loss: 0.0941\n",
      "Epoch [1/5], Batch [900/938], Loss: 0.0904\n",
      "Accuracy after epoch 1: 97.85%\n",
      "\n",
      "Epoch [2/5], Batch [100/938], Loss: 0.0654\n",
      "Epoch [2/5], Batch [200/938], Loss: 0.0686\n",
      "Epoch [2/5], Batch [300/938], Loss: 0.0645\n",
      "Epoch [2/5], Batch [400/938], Loss: 0.0613\n",
      "Epoch [2/5], Batch [500/938], Loss: 0.0707\n",
      "Epoch [2/5], Batch [600/938], Loss: 0.0678\n",
      "Epoch [2/5], Batch [700/938], Loss: 0.0640\n",
      "Epoch [2/5], Batch [800/938], Loss: 0.0596\n",
      "Epoch [2/5], Batch [900/938], Loss: 0.0563\n",
      "Accuracy after epoch 2: 98.38%\n",
      "\n",
      "Epoch [3/5], Batch [100/938], Loss: 0.0457\n",
      "Epoch [3/5], Batch [200/938], Loss: 0.0420\n",
      "Epoch [3/5], Batch [300/938], Loss: 0.0471\n",
      "Epoch [3/5], Batch [400/938], Loss: 0.0579\n",
      "Epoch [3/5], Batch [500/938], Loss: 0.0421\n",
      "Epoch [3/5], Batch [600/938], Loss: 0.0445\n",
      "Epoch [3/5], Batch [700/938], Loss: 0.0364\n",
      "Epoch [3/5], Batch [800/938], Loss: 0.0502\n",
      "Epoch [3/5], Batch [900/938], Loss: 0.0427\n",
      "Accuracy after epoch 3: 98.64%\n",
      "\n",
      "Epoch [4/5], Batch [100/938], Loss: 0.0284\n",
      "Epoch [4/5], Batch [200/938], Loss: 0.0291\n",
      "Epoch [4/5], Batch [300/938], Loss: 0.0357\n",
      "Epoch [4/5], Batch [400/938], Loss: 0.0363\n",
      "Epoch [4/5], Batch [500/938], Loss: 0.0411\n",
      "Epoch [4/5], Batch [600/938], Loss: 0.0417\n",
      "Epoch [4/5], Batch [700/938], Loss: 0.0308\n",
      "Epoch [4/5], Batch [800/938], Loss: 0.0382\n",
      "Epoch [4/5], Batch [900/938], Loss: 0.0364\n",
      "Accuracy after epoch 4: 98.69%\n",
      "\n",
      "Epoch [5/5], Batch [100/938], Loss: 0.0274\n",
      "Epoch [5/5], Batch [200/938], Loss: 0.0259\n",
      "Epoch [5/5], Batch [300/938], Loss: 0.0223\n",
      "Epoch [5/5], Batch [400/938], Loss: 0.0253\n",
      "Epoch [5/5], Batch [500/938], Loss: 0.0281\n",
      "Epoch [5/5], Batch [600/938], Loss: 0.0275\n",
      "Epoch [5/5], Batch [700/938], Loss: 0.0284\n",
      "Epoch [5/5], Batch [800/938], Loss: 0.0317\n",
      "Epoch [5/5], Batch [900/938], Loss: 0.0288\n",
      "Accuracy after epoch 5: 98.76%\n",
      "\n",
      "Training complete!\n"
     ]
    }
   ],
   "source": [
    "for epoch in range(num_epochs):\n",
    "    model.train()\n",
    "    running_loss = 0.0\n",
    "\n",
    "    for batch_idx, (data, target) in enumerate(train_loader):\n",
    "        data, target = data.to(device), target.to(device)\n",
    "\n",
    "        optimizer.zero_grad()\n",
    "        output = model(data)\n",
    "\n",
    "        loss = criterion(output, target)\n",
    "        loss.backward()\n",
    "        optimizer.step()\n",
    "\n",
    "        running_loss += loss.item()\n",
    "\n",
    "        if batch_idx % 100 == 99:\n",
    "            print(f'Epoch [{epoch + 1}/{num_epochs}], Batch [{batch_idx + 1}/{len(train_loader)}], Loss: {running_loss / 100:.4f}')\n",
    "            running_loss = 0.0\n",
    "\n",
    "    # Test loop after each epoch\n",
    "    model.eval()\n",
    "    correct = 0\n",
    "    total = 0\n",
    "    with torch.no_grad():\n",
    "        for data, target in test_loader:\n",
    "            data, target = data.to(device), target.to(device)\n",
    "            output = model(data)\n",
    "            predicted = output.argmax(dim=1)\n",
    "            total += target.size(0)\n",
    "            correct += (predicted == target).sum().item()\n",
    "\n",
    "    accuracy = 100 * correct / total\n",
    "    print(f'Accuracy after epoch {epoch + 1}: {accuracy:.2f}%\\n')\n",
    "\n",
    "print(\"Training complete!\")"
   ]
  }
 ],
 "metadata": {
  "kernelspec": {
   "display_name": "venv",
   "language": "python",
   "name": "python3"
  },
  "language_info": {
   "codemirror_mode": {
    "name": "ipython",
    "version": 3
   },
   "file_extension": ".py",
   "mimetype": "text/x-python",
   "name": "python",
   "nbconvert_exporter": "python",
   "pygments_lexer": "ipython3",
   "version": "3.11.9"
  }
 },
 "nbformat": 4,
 "nbformat_minor": 5
}
